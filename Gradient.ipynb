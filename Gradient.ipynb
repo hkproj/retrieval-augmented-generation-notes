{
 "cells": [
  {
   "cell_type": "code",
   "execution_count": null,
   "id": "79a726c5",
   "metadata": {},
   "outputs": [],
   "source": [
    "%pip install llama-index --quiet\n",
    "%pip install gradientai --quiet\n",
    "%mkdir -p data"
   ]
  },
  {
   "cell_type": "code",
   "execution_count": null,
   "metadata": {},
   "outputs": [],
   "source": [
    "# Create a document containing information about 奥利奥, the channel's mascotte.s\n",
    "with open('data/aoliao.txt', 'w') as f:\n",
    "    f.write(\"奥利奥 is a 3 years old cat that teaches deep learning models on its YouTube channel along with his friend Umar Jamil.\\n\" +\n",
    "            \"They're both passionate about machine learning and deep learning, and 奥利奥 is very fast in learning new concepts.\\n\" +\n",
    "            \"So far, the duo has made videos on Large Language Models, Stable Diffusion and Transformer models, including the popular model LLaMA 2.\\n\" +\n",
    "            \"Apart from machine learning, 奥利奥 likes to play with his friend Umar, especially when he is recording videos for their YouTube channel.\\n\")"
   ]
  },
  {
   "cell_type": "code",
   "execution_count": null,
   "id": "4baffaa2",
   "metadata": {},
   "outputs": [],
   "source": [
    "from llama_index.llms import GradientBaseModelLLM\n",
    "from llama_index import VectorStoreIndex, SimpleDirectoryReader, ServiceContext\n",
    "from llama_index.embeddings import GradientEmbedding\n",
    "\n",
    "import os\n",
    "os.environ[\"GRADIENT_ACCESS_TOKEN\"] = \"O9OVVEhn4lec802LdPTBfZsCts6s9BCY\"\n",
    "os.environ[\"GRADIENT_WORKSPACE_ID\"] = \"7aa7c878-0157-4cb7-8281-cbbc1efb4d35_workspace\"\n",
    "\n",
    "question = \"Do you know anyone named 奥利奥?\"\n",
    "\n",
    "# You can also use a model adapter you've trained with GradientModelAdapterLLM\n",
    "llm = GradientBaseModelLLM(base_model_slug=\"llama2-7b-chat\",max_tokens=100)\n",
    "\n",
    "print(f'Without RAG: {llm.complete(question)}')\n",
    "print(f'')\n",
    "\n",
    "documents = SimpleDirectoryReader(\"./data\").load_data() # Documents to index \n",
    "embed_model = GradientEmbedding(gradient_model_slug=\"bge-large\") # The model used to generate embeddings\n",
    "service_context = ServiceContext.from_defaults(chunk_size=1024, llm=llm, embed_model=embed_model) # The service context defines the LLM and the embedding model to be used by the query engine\n",
    "\n",
    "index = VectorStoreIndex.from_documents(documents, service_context=service_context)\n",
    "query_engine = index.as_query_engine()\n",
    "\n",
    "response = query_engine.query(question)\n",
    "print(f'With RAG: {response}')"
   ]
  },
  {
   "cell_type": "code",
   "execution_count": null,
   "metadata": {},
   "outputs": [],
   "source": []
  }
 ],
 "metadata": {
  "kernelspec": {
   "display_name": "Python 3.9.12 ('.venv': venv)",
   "language": "python",
   "name": "python3"
  },
  "language_info": {
   "codemirror_mode": {
    "name": "ipython",
    "version": 3
   },
   "file_extension": ".py",
   "mimetype": "text/x-python",
   "name": "python",
   "nbconvert_exporter": "python",
   "pygments_lexer": "ipython3",
   "version": "3.11.3"
  },
  "vscode": {
   "interpreter": {
    "hash": "5ae9fa2777630f93d325d67fd0c37f7375ed1afcb20dd85f425eb8692a47ff3f"
   }
  }
 },
 "nbformat": 4,
 "nbformat_minor": 5
}
